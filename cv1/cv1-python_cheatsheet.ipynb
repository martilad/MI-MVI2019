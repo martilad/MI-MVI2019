{
 "cells": [
  {
   "cell_type": "markdown",
   "metadata": {},
   "source": [
    "# Python cheatsheet"
   ]
  },
  {
   "cell_type": "markdown",
   "metadata": {},
   "source": [
    "Python is a **dynamically typed language**, you don't have to worry about declaring variable types."
   ]
  },
  {
   "cell_type": "code",
   "execution_count": 1,
   "metadata": {},
   "outputs": [
    {
     "name": "stdout",
     "output_type": "stream",
     "text": [
      "a: 10\n",
      "b: 10.800000\n",
      "c: str\n",
      "d: True\n"
     ]
    }
   ],
   "source": [
    "a = 10            # integer\n",
    "b = 10.8          # float\n",
    "c = \"str\"         # string\n",
    "d = True          # bool\n",
    "\n",
    "print(\"a: %d\" % a)\n",
    "print(\"b: %f\" % b)\n",
    "print(\"c: %s\" % c)\n",
    "print(\"d: %s\" % d)"
   ]
  },
  {
   "cell_type": "markdown",
   "metadata": {},
   "source": [
    "Arithmetic operations."
   ]
  },
  {
   "cell_type": "code",
   "execution_count": 2,
   "metadata": {},
   "outputs": [
    {
     "name": "stdout",
     "output_type": "stream",
     "text": [
      "5 + 2 = 7\n",
      "5 - 2 = 3\n",
      "5 * 2 = 10\n",
      "5 ** 2 = 25\n",
      "\n",
      "Notice the difference:\n",
      "5 / 2 = 2.5\n",
      "5 // 2 = 2.0\n",
      "\n",
      "x = 5\n",
      "+= 1: 6\n",
      "*= 2: 12\n",
      "/= 4: 3\n"
     ]
    }
   ],
   "source": [
    "x = 5\n",
    "y = 2\n",
    "\n",
    "print(\"%d + %d = %d\" % (x, y, x + y))\n",
    "print(\"%d - %d = %d\" % (x, y, x - y))\n",
    "print(\"%d * %d = %d\" % (x, y, x * y))\n",
    "print(\"%d ** %d = %d\" % (x, y, x ** y))\n",
    "\n",
    "print(\"\\nNotice the difference:\")\n",
    "print(\"%d / %d = %.1f\" % (x, y, x / y))\n",
    "print(\"%d // %d = %.1f\" % (x, y, x // y))\n",
    "\n",
    "print(\"\\nx = %d\" % x)\n",
    "x += 1\n",
    "print(\"+= 1: %d\" % x)\n",
    "x *= 2\n",
    "print(\"*= 2: %d\" % x)\n",
    "x /= 4\n",
    "print(\"/= 4: %d\" % x)"
   ]
  },
  {
   "cell_type": "markdown",
   "metadata": {},
   "source": [
    "The flow of a Python program is controlled with **if-else statements** and **loops**."
   ]
  },
  {
   "cell_type": "code",
   "execution_count": 3,
   "metadata": {},
   "outputs": [
    {
     "name": "stdout",
     "output_type": "stream",
     "text": [
      "Smaller than 4.\n"
     ]
    }
   ],
   "source": [
    "x = 5\n",
    "\n",
    "if x > 4:\n",
    "    print(\"Smaller than 4.\")\n",
    "elif x == 4:\n",
    "    print(\"Equal to 4.\")\n",
    "else:\n",
    "    print(\"Bigger than 4.\")"
   ]
  },
  {
   "cell_type": "code",
   "execution_count": 4,
   "metadata": {},
   "outputs": [
    {
     "name": "stdout",
     "output_type": "stream",
     "text": [
      "i: 0\n",
      "i: 1\n",
      "i: 2\n",
      "i: 3\n",
      "i: 4\n"
     ]
    }
   ],
   "source": [
    "for i in range(5):\n",
    "    print(\"i: %d\" % i)"
   ]
  },
  {
   "cell_type": "markdown",
   "metadata": {},
   "source": [
    "The main containers Python provides are **lists**, **dictionaries** and **tuples**."
   ]
  },
  {
   "cell_type": "code",
   "execution_count": 5,
   "metadata": {},
   "outputs": [
    {
     "name": "stdout",
     "output_type": "stream",
     "text": [
      "[1, 3, 2, 4]\n",
      "Length: 4\n",
      "\n",
      "List indexing:\n",
      "a_list[2]: 2\n",
      "\n",
      "List slicing:\n",
      "[2, 4]\n",
      "[3, 2]\n",
      "[1, 3]\n"
     ]
    }
   ],
   "source": [
    "a_list = [1, 3, 2, 4]\n",
    "\n",
    "print(a_list)\n",
    "print(\"Length: %d\" % len(a_list))\n",
    "\n",
    "print(\"\\nList indexing:\")\n",
    "print(\"a_list[2]: %d\" % a_list[2])\n",
    "\n",
    "print(\"\\nList slicing:\")\n",
    "print(a_list[2:])\n",
    "print(a_list[1:3])\n",
    "print(a_list[:2])"
   ]
  },
  {
   "cell_type": "code",
   "execution_count": 6,
   "metadata": {},
   "outputs": [
    {
     "name": "stdout",
     "output_type": "stream",
     "text": [
      "{'one': 1, 'two': 2}\n"
     ]
    }
   ],
   "source": [
    "a_dictionary = {\n",
    "    \"one\": 1,\n",
    "    \"two\": 2\n",
    "}\n",
    "\n",
    "print(a_dictionary)"
   ]
  },
  {
   "cell_type": "code",
   "execution_count": 7,
   "metadata": {},
   "outputs": [
    {
     "name": "stdout",
     "output_type": "stream",
     "text": [
      "(2, 4, 5)\n",
      "Tuples are immutable (you cannot change them once you've declared them).\n"
     ]
    }
   ],
   "source": [
    "a_tuple = (2, 4, 5)\n",
    "\n",
    "print(a_tuple)\n",
    "\n",
    "try:\n",
    "    a_tuple[1] = 4\n",
    "except TypeError:\n",
    "    print(\"Tuples are immutable (you cannot change them once you've declared them).\")"
   ]
  },
  {
   "cell_type": "markdown",
   "metadata": {},
   "source": [
    "**Looping** over a list or a disctionary is simple."
   ]
  },
  {
   "cell_type": "code",
   "execution_count": 8,
   "metadata": {},
   "outputs": [
    {
     "name": "stdout",
     "output_type": "stream",
     "text": [
      "Loop over values:\n",
      "1\n",
      "4\n",
      "3\n",
      "2\n",
      "\n",
      "Loop over indexed values:\n",
      "i = 0: 1\n",
      "i = 1: 4\n",
      "i = 2: 3\n",
      "i = 3: 2\n",
      "\n",
      "Loop over a sorted list:\n",
      "1\n",
      "2\n",
      "3\n",
      "4\n"
     ]
    }
   ],
   "source": [
    "a_list = [1, 4, 3, 2]\n",
    "\n",
    "print(\"Loop over values:\")\n",
    "for value in a_list:\n",
    "    print(value)\n",
    "\n",
    "print(\"\\nLoop over indexed values:\")\n",
    "for i, value in enumerate(a_list):\n",
    "    print(\"i = %d: %d\" % (i, value))\n",
    "    \n",
    "print(\"\\nLoop over a sorted list:\")\n",
    "for value in sorted(a_list):\n",
    "    print(value)"
   ]
  },
  {
   "cell_type": "code",
   "execution_count": 9,
   "metadata": {},
   "outputs": [
    {
     "name": "stdout",
     "output_type": "stream",
     "text": [
      "Loop over the dictionary:\n",
      "one: 1\n",
      "two: 2\n"
     ]
    }
   ],
   "source": [
    "a_dictionary = {\n",
    "    \"one\": 1,\n",
    "    \"two\": 2\n",
    "}\n",
    "\n",
    "print(\"Loop over the dictionary:\")\n",
    "for key in a_dictionary.keys():\n",
    "    print(\"%s: %d\" % (key, a_dictionary[key]))"
   ]
  },
  {
   "cell_type": "markdown",
   "metadata": {},
   "source": [
    "Finally, Python supports **functions** and **classes**. While you should get familiar with functions, you most likely won't have to write classes in this course."
   ]
  },
  {
   "cell_type": "code",
   "execution_count": 10,
   "metadata": {},
   "outputs": [
    {
     "name": "stdout",
     "output_type": "stream",
     "text": [
      "5\n",
      "6\n",
      "-5\n"
     ]
    }
   ],
   "source": [
    "def add(a, b):\n",
    "    # returns a single number\n",
    "    return a + b\n",
    "\n",
    "def add_and_multiply(a, b):\n",
    "    # returns a tuple\n",
    "    return a + b, a * b\n",
    "\n",
    "def identity(a, negate=False):\n",
    "    # an optional argument\n",
    "    if negate:\n",
    "        return -a\n",
    "    else:\n",
    "        return a\n",
    "\n",
    "x = add(2, 3)\n",
    "print(x)\n",
    "\n",
    "x, y = add_and_multiply(2, 3)\n",
    "print(y)\n",
    "\n",
    "x = identity(5, negate=True)\n",
    "print(x)"
   ]
  },
  {
   "cell_type": "code",
   "execution_count": 11,
   "metadata": {},
   "outputs": [
    {
     "name": "stdout",
     "output_type": "stream",
     "text": [
      "layer 0:\n",
      "[200, 100]\n",
      "\n",
      "layer 1:\n",
      "[100, 50]\n",
      "\n",
      "layer 2:\n",
      "[50, 1]\n",
      "\n"
     ]
    }
   ],
   "source": [
    "class NeuralNetwork():\n",
    "    \n",
    "    def __init__(self, layers):\n",
    "        self.layers = layers\n",
    "        \n",
    "    def print_layers(self):\n",
    "        for i, layer in enumerate(self.layers):\n",
    "            print(\"layer %d:\" % i)\n",
    "            print(layer)\n",
    "            print()\n",
    "            \n",
    "model = NeuralNetwork([[200, 100], [100, 50], [50, 1]])\n",
    "model.print_layers()"
   ]
  },
  {
   "cell_type": "markdown",
   "metadata": {},
   "source": [
    "**Additional resources:**\n",
    "* [Python and Numpy for machine learning tutorial](http://cs231n.github.io/python-numpy-tutorial/)\n",
    "* [Interactive Python course](https://www.codecademy.com/learn/python)\n",
    "* [Python documentation](https://docs.python.org/3/)"
   ]
  }
 ],
 "metadata": {
  "kernelspec": {
   "display_name": "Python 3",
   "language": "python",
   "name": "python3"
  },
  "language_info": {
   "codemirror_mode": {
    "name": "ipython",
    "version": 3
   },
   "file_extension": ".py",
   "mimetype": "text/x-python",
   "name": "python",
   "nbconvert_exporter": "python",
   "pygments_lexer": "ipython3",
   "version": "3.7.3"
  }
 },
 "nbformat": 4,
 "nbformat_minor": 2
}
