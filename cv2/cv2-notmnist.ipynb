{
 "cells": [
  {
   "cell_type": "markdown",
   "metadata": {
    "collapsed": true
   },
   "source": [
    "# MI-MVI tutorial 2 #"
   ]
  },
  {
   "cell_type": "markdown",
   "metadata": {},
   "source": [
    "In the first tutorial, we introduced you to **Tensorflow**, a Deep Learning framework. You learned how to **define a computation graph**, and **create and initialize a Session**. Finally, you trained a simple classification model on a dataset of digits called **MNIST**."
   ]
  },
  {
   "cell_type": "markdown",
   "metadata": {},
   "source": [
    "In this tutorial, we will experiments with various methods for the training of neural networks. Furthermore, we will show you how to use some advanced Tensorflow features like saving and loading models as well as visualizing the training. Lastly, we will learn how to regularize a neural network."
   ]
  },
  {
   "cell_type": "markdown",
   "metadata": {},
   "source": [
    "We thank the authors of this [Udacity tutorial](https://github.com/tensorflow/tensorflow/tree/master/tensorflow/examples/udacity) which was the main inspiration for this tutorial. We have reused some of their code snippets."
   ]
  },
  {
   "cell_type": "markdown",
   "metadata": {},
   "source": [
    "## Part 1: the notMNIST dataset ##"
   ]
  },
  {
   "cell_type": "markdown",
   "metadata": {},
   "source": [
    "![notMNIST example](images/notMNIST.png)"
   ]
  },
  {
   "cell_type": "markdown",
   "metadata": {},
   "source": [
    "The [notMNIST dataset](http://yaroslavvb.blogspot.cz/2011/09/notmnist-dataset.html) created by [Yaroslav Bulatov](https://www.blogger.com/profile/06139256691290554110) contains pictures of **letters from A - J** gathered from a multitude of publicly available fonts. The letters are in the same fromat as MNIST - 28x28 grayscale pictures. The dataset is harder than MNIST but small enough to be used on a laptop making it a perfect dataset for small-scale experiments."
   ]
  },
  {
   "cell_type": "markdown",
   "metadata": {},
   "source": [
    "We will work only with letters A - D in order for our experiments to run faster. You can use *cv2-notmnist-prepare-data* to load all letters (you will need to make some changes) if you want to experiment with the whole dataset."
   ]
  },
  {
   "cell_type": "markdown",
   "metadata": {},
   "source": [
    "Download the preprocessed dataset from [this](https://drive.google.com/file/d/1FE7thwYRktH-D8wi_4dYXsGPNG_Qno10/view?usp=sharing) link and place it in the **data/notMNIST** directory. Alternatively, you can download and preprocess the dataset using the *cv2-notmnist-prepare-data* notebook."
   ]
  },
  {
   "cell_type": "markdown",
   "metadata": {},
   "source": [
    "**Import** Python modules we will use."
   ]
  },
  {
   "cell_type": "code",
   "execution_count": 1,
   "metadata": {},
   "outputs": [
    {
     "name": "stderr",
     "output_type": "stream",
     "text": [
      "/home/martilad/FIT/MI-MVI2019/__venv__/lib/python3.7/site-packages/tensorflow/python/framework/dtypes.py:516: FutureWarning: Passing (type, 1) or '1type' as a synonym of type is deprecated; in a future version of numpy, it will be understood as (type, (1,)) / '(1,)type'.\n",
      "  _np_qint8 = np.dtype([(\"qint8\", np.int8, 1)])\n",
      "/home/martilad/FIT/MI-MVI2019/__venv__/lib/python3.7/site-packages/tensorflow/python/framework/dtypes.py:517: FutureWarning: Passing (type, 1) or '1type' as a synonym of type is deprecated; in a future version of numpy, it will be understood as (type, (1,)) / '(1,)type'.\n",
      "  _np_quint8 = np.dtype([(\"quint8\", np.uint8, 1)])\n",
      "/home/martilad/FIT/MI-MVI2019/__venv__/lib/python3.7/site-packages/tensorflow/python/framework/dtypes.py:518: FutureWarning: Passing (type, 1) or '1type' as a synonym of type is deprecated; in a future version of numpy, it will be understood as (type, (1,)) / '(1,)type'.\n",
      "  _np_qint16 = np.dtype([(\"qint16\", np.int16, 1)])\n",
      "/home/martilad/FIT/MI-MVI2019/__venv__/lib/python3.7/site-packages/tensorflow/python/framework/dtypes.py:519: FutureWarning: Passing (type, 1) or '1type' as a synonym of type is deprecated; in a future version of numpy, it will be understood as (type, (1,)) / '(1,)type'.\n",
      "  _np_quint16 = np.dtype([(\"quint16\", np.uint16, 1)])\n",
      "/home/martilad/FIT/MI-MVI2019/__venv__/lib/python3.7/site-packages/tensorflow/python/framework/dtypes.py:520: FutureWarning: Passing (type, 1) or '1type' as a synonym of type is deprecated; in a future version of numpy, it will be understood as (type, (1,)) / '(1,)type'.\n",
      "  _np_qint32 = np.dtype([(\"qint32\", np.int32, 1)])\n",
      "/home/martilad/FIT/MI-MVI2019/__venv__/lib/python3.7/site-packages/tensorflow/python/framework/dtypes.py:525: FutureWarning: Passing (type, 1) or '1type' as a synonym of type is deprecated; in a future version of numpy, it will be understood as (type, (1,)) / '(1,)type'.\n",
      "  np_resource = np.dtype([(\"resource\", np.ubyte, 1)])\n",
      "/home/martilad/FIT/MI-MVI2019/__venv__/lib/python3.7/site-packages/tensorboard/compat/tensorflow_stub/dtypes.py:541: FutureWarning: Passing (type, 1) or '1type' as a synonym of type is deprecated; in a future version of numpy, it will be understood as (type, (1,)) / '(1,)type'.\n",
      "  _np_qint8 = np.dtype([(\"qint8\", np.int8, 1)])\n",
      "/home/martilad/FIT/MI-MVI2019/__venv__/lib/python3.7/site-packages/tensorboard/compat/tensorflow_stub/dtypes.py:542: FutureWarning: Passing (type, 1) or '1type' as a synonym of type is deprecated; in a future version of numpy, it will be understood as (type, (1,)) / '(1,)type'.\n",
      "  _np_quint8 = np.dtype([(\"quint8\", np.uint8, 1)])\n",
      "/home/martilad/FIT/MI-MVI2019/__venv__/lib/python3.7/site-packages/tensorboard/compat/tensorflow_stub/dtypes.py:543: FutureWarning: Passing (type, 1) or '1type' as a synonym of type is deprecated; in a future version of numpy, it will be understood as (type, (1,)) / '(1,)type'.\n",
      "  _np_qint16 = np.dtype([(\"qint16\", np.int16, 1)])\n",
      "/home/martilad/FIT/MI-MVI2019/__venv__/lib/python3.7/site-packages/tensorboard/compat/tensorflow_stub/dtypes.py:544: FutureWarning: Passing (type, 1) or '1type' as a synonym of type is deprecated; in a future version of numpy, it will be understood as (type, (1,)) / '(1,)type'.\n",
      "  _np_quint16 = np.dtype([(\"quint16\", np.uint16, 1)])\n",
      "/home/martilad/FIT/MI-MVI2019/__venv__/lib/python3.7/site-packages/tensorboard/compat/tensorflow_stub/dtypes.py:545: FutureWarning: Passing (type, 1) or '1type' as a synonym of type is deprecated; in a future version of numpy, it will be understood as (type, (1,)) / '(1,)type'.\n",
      "  _np_qint32 = np.dtype([(\"qint32\", np.int32, 1)])\n",
      "/home/martilad/FIT/MI-MVI2019/__venv__/lib/python3.7/site-packages/tensorboard/compat/tensorflow_stub/dtypes.py:550: FutureWarning: Passing (type, 1) or '1type' as a synonym of type is deprecated; in a future version of numpy, it will be understood as (type, (1,)) / '(1,)type'.\n",
      "  np_resource = np.dtype([(\"resource\", np.ubyte, 1)])\n"
     ]
    }
   ],
   "source": [
    "import os, pickle\n",
    "import numpy as np\n",
    "import matplotlib.pyplot as plt\n",
    "import tensorflow as tf"
   ]
  },
  {
   "cell_type": "markdown",
   "metadata": {},
   "source": [
    "You should have the preprocessed subset of notMNIST saved as a [pickle](). You can use the code snippet below to **load** it any time."
   ]
  },
  {
   "cell_type": "code",
   "execution_count": 2,
   "metadata": {},
   "outputs": [
    {
     "name": "stdout",
     "output_type": "stream",
     "text": [
      "Training set (18000, 28, 28) (18000,)\n",
      "Validation set (1000, 28, 28) (1000,)\n",
      "Test set (1000, 28, 28) (1000,)\n"
     ]
    }
   ],
   "source": [
    "# load a subset of the notMNIST dataset\n",
    "data_root = 'data/notMNIST'\n",
    "pickle_file = os.path.join(data_root, 'notMNIST.pickle')\n",
    "\n",
    "with open(pickle_file, 'rb') as f:\n",
    "  save = pickle.load(f)\n",
    "  train_dataset = save['train_dataset']\n",
    "  train_labels = save['train_labels']\n",
    "  valid_dataset = save['valid_dataset']\n",
    "  valid_labels = save['valid_labels']\n",
    "  test_dataset = save['test_dataset']\n",
    "  test_labels = save['test_labels']\n",
    "  labels = save['labels']\n",
    "\n",
    "  del save  # hint to help gc free up memory\n",
    "  print('Training set', train_dataset.shape, train_labels.shape)\n",
    "  print('Validation set', valid_dataset.shape, valid_labels.shape)\n",
    "  print('Test set', test_dataset.shape, test_labels.shape)"
   ]
  },
  {
   "cell_type": "markdown",
   "metadata": {},
   "source": [
    "**Display** a couple of images so that we know what we are working with. If possible, always visualize your data preprocessing pipeline in order to spot bugs."
   ]
  },
  {
   "cell_type": "code",
   "execution_count": 4,
   "metadata": {},
   "outputs": [
    {
     "name": "stdout",
     "output_type": "stream",
     "text": [
      "run again for different images\n",
      "B\n",
      "B\n",
      "C\n",
      "A\n"
     ]
    },
    {
     "data": {
      "image/png": "[encoded data removed]",
      "text/plain": [
       "<Figure size 720x720 with 8 Axes>"
      ]
     },
     "metadata": {
      "needs_background": "light"
     },
     "output_type": "display_data"
    }
   ],
   "source": [
    "print(\"run again for different images\")\n",
    "\n",
    "from mpl_toolkits.axes_grid1 import ImageGrid\n",
    "\n",
    "fig = plt.figure(1, figsize=(10, 10))\n",
    "grid = ImageGrid(fig, 111, nrows_ncols=(1, 4), axes_pad=0.2)\n",
    "\n",
    "for i in range(4):\n",
    "    index = np.random.randint(0, train_dataset.shape[0])\n",
    "    \n",
    "    grid[i].imshow(train_dataset[index] / 255, interpolation=\"bilinear\", cmap=\"gray\")\n",
    "    grid[i].tick_params(axis='both', which='both', bottom='off', top='off', \n",
    "                    labelbottom='off', right='off', left='off', labelleft='off')\n",
    "\n",
    "    for key, value in labels.items():\n",
    "        if value == train_labels[index]:\n",
    "            print(key)\n",
    "    \n",
    "plt.show()"
   ]
  },
  {
   "cell_type": "markdown",
   "metadata": {},
   "source": [
    "The individual pixels are encoded as grayscale values with integers in the range [0-255]. To help the classfier to converge, we **normalize** images so that they have zero mean and unit variance. \n",
    "\n",
    "**(Optional) Task**: Try skipping the normalization step or only subtracting means and see how it impacts the final performance (if the model trains at all)."
   ]
  },
  {
   "cell_type": "code",
   "execution_count": 5,
   "metadata": {},
   "outputs": [],
   "source": [
    "mean = np.mean(train_dataset, axis=0)\n",
    "std = np.std(train_dataset, axis=0)\n",
    "\n",
    "train_dataset = (train_dataset - mean) / std\n",
    "valid_dataset = (valid_dataset - mean) / std\n",
    "test_dataset = (test_dataset - mean) / std"
   ]
  },
  {
   "cell_type": "markdown",
   "metadata": {},
   "source": [
    "Notice that we compute means and standard deviations over the training set. As expected, the training set has zero mean and unit variance after normalization. However, the means and variances of the validation and testing set slightly deviate. \n",
    "\n",
    "**Question**: Why do we use means and standard deviations computed over the training set to normalize the validation and testing sets?\n",
    "\n",
    "*Hint: generalization*."
   ]
  },
  {
   "cell_type": "code",
   "execution_count": 6,
   "metadata": {},
   "outputs": [
    {
     "name": "stdout",
     "output_type": "stream",
     "text": [
      "statistics after normalization\n",
      "training mean: 0.0 , variance: 1.0\n",
      "validation mean: 0.00127 , variance: 0.99529\n",
      "testing mean: 0.01194 , variance: 0.99847\n"
     ]
    }
   ],
   "source": [
    "print(\"statistics after normalization\")\n",
    "print(\"training mean:\", np.round(np.mean(train_dataset), 5), \", variance:\", \n",
    "                        np.round(np.var(train_dataset), 5))\n",
    "print(\"validation mean:\", np.round(np.mean(valid_dataset), 5), \", variance:\", \n",
    "                          np.round(np.var(valid_dataset), 5))\n",
    "print(\"testing mean:\", np.round(np.mean(test_dataset), 5), \", variance:\", \n",
    "                       np.round(np.var(test_dataset), 5))"
   ]
  },
  {
   "cell_type": "markdown",
   "metadata": {},
   "source": [
    "**Shuffle** the pictures to make sure that each mini-batch is an **unbiased sample** of the training data."
   ]
  },
  {
   "cell_type": "code",
   "execution_count": 7,
   "metadata": {},
   "outputs": [],
   "source": [
    "# https://stackoverflow.com/questions/4601373/better-way-to-shuffle-two-numpy-arrays-in-unison\n",
    "def unison_shuffle(a, b):\n",
    "    assert len(a) == len(b)\n",
    "    p = np.random.permutation(len(a))\n",
    "    return a[p], b[p]"
   ]
  },
  {
   "cell_type": "code",
   "execution_count": 8,
   "metadata": {},
   "outputs": [],
   "source": [
    "train_dataset, train_labels = unison_shuffle(train_dataset, train_labels)\n",
    "valid_dataset, valid_labels = unison_shuffle(valid_dataset, valid_labels)\n",
    "test_dataset, test_labels = unison_shuffle(test_dataset, test_labels)"
   ]
  },
  {
   "cell_type": "markdown",
   "metadata": {},
   "source": [
    "## Part 2: Building a classification model ##"
   ]
  },
  {
   "cell_type": "markdown",
   "metadata": {},
   "source": [
    "In this section, we will build a **neural network** for letter classification and train it with **batch gradient descent**, **stochastic gradient descent** and **mini-batch gradient descent**."
   ]
  },
  {
   "cell_type": "markdown",
   "metadata": {},
   "source": [
    "The dataset stores each image as a Tensor of rank two (width x height). However, a fully-connected (standard) neural network only accepts vectors (Tensors of rank 1). Therefore, the following cell **vectorizes each image in the dataset**."
   ]
  },
  {
   "cell_type": "markdown",
   "metadata": {},
   "source": [
    "![flatten image](images/flatten_image.png)"
   ]
  },
  {
   "cell_type": "code",
   "execution_count": 9,
   "metadata": {},
   "outputs": [
    {
     "name": "stdout",
     "output_type": "stream",
     "text": [
      "Training dataset shape: (18000, 784)\n",
      "Validation dataset shape: (1000, 784)\n",
      "Test dataset shape: (1000, 784)\n"
     ]
    }
   ],
   "source": [
    "# vectorize each image\n",
    "def maybe_vectorize(dataset):\n",
    "  if len(dataset.shape) == 3:\n",
    "    return np.reshape(dataset, (dataset.shape[0], dataset.shape[1] * dataset.shape[2]))\n",
    "  else:\n",
    "    return dataset\n",
    "\n",
    "train_dataset = maybe_vectorize(train_dataset)\n",
    "valid_dataset = maybe_vectorize(valid_dataset)\n",
    "test_dataset = maybe_vectorize(test_dataset)\n",
    "\n",
    "print('Training dataset shape:', train_dataset.shape)\n",
    "print('Validation dataset shape:', valid_dataset.shape)\n",
    "print('Test dataset shape:', test_dataset.shape)"
   ]
  },
  {
   "cell_type": "markdown",
   "metadata": {},
   "source": [
    "Furthermore, the dataset labels (which record what letter is depicted on each image) are stores as integers where 0 represents letter A and 3 represents D. A neural network usually outputs a vector in which each element represents the probability that an input image belongs to a certain label. In order to train the neural network, you will need to compare the predicted probabilities with the correct label. To do this, it's convenient to turn each label into a vector with a one in the position that corresponds to its index and the rest set to zero. This is called **one-hot encoding**."
   ]
  },
  {
   "cell_type": "markdown",
   "metadata": {},
   "source": [
    "![one-hot encoding](images/one_hot_encoding.jpg)"
   ]
  },
  {
   "cell_type": "code",
   "execution_count": 10,
   "metadata": {},
   "outputs": [
    {
     "name": "stdout",
     "output_type": "stream",
     "text": [
      "Training labels shape: (18000, 4)\n",
      "Validation labels shape: (1000, 4)\n",
      "Test labels shape: (1000, 4)\n"
     ]
    }
   ],
   "source": [
    "# one-hot encode each label\n",
    "def maybe_turn_to_one_hot(labels, num_labels=4):\n",
    "  if len(labels.shape) == 1:\n",
    "    one_hot = np.zeros((labels.shape[0], num_labels))\n",
    "    one_hot[np.arange(len(labels)), labels] = 1\n",
    "    return one_hot\n",
    "  else:\n",
    "    return labels\n",
    "\n",
    "train_labels = maybe_turn_to_one_hot(train_labels)\n",
    "valid_labels = maybe_turn_to_one_hot(valid_labels)\n",
    "test_labels = maybe_turn_to_one_hot(test_labels)\n",
    "\n",
    "print('Training labels shape:', train_labels.shape)\n",
    "print('Validation labels shape:', valid_labels.shape)\n",
    "print('Test labels shape:', test_labels.shape)"
   ]
  },
  {
   "cell_type": "markdown",
   "metadata": {},
   "source": [
    "### Fully-connected Neural Network ###"
   ]
  },
  {
   "cell_type": "markdown",
   "metadata": {},
   "source": [
    "In the following series of tasks, you will implement a classfication model from scratch. We recommend you to use the Jupyter notebook from the first tutorial as a reference and try to implement your model based on that. Alternatively, you check the reference notebook which has all the solution (except for Part 4 which contains a bonus-point task) but you won't learn much by copying them. The tasks aren't graded."
   ]
  },
  {
   "cell_type": "markdown",
   "metadata": {},
   "source": [
    "### Task 1A ###\n",
    "\n",
    "* define a computation graph for a **fully-connected neural network**\n",
    "* the network should have **2 hidden layers** with **200 neurons in the first** and **100 neurons in the second** hidden layer\n",
    "* **input**: vectorized images in the shape (num_images, 784)\n",
    "* **output**: predictions in the shape (num_images, 4)\n",
    "\n",
    "See the reference notebook for a solution."
   ]
  },
  {
   "cell_type": "code",
   "execution_count": 11,
   "metadata": {},
   "outputs": [
    {
     "name": "stdout",
     "output_type": "stream",
     "text": [
      "WARNING:tensorflow:From <ipython-input-11-7bed239f1362>:11: dense (from tensorflow.python.layers.core) is deprecated and will be removed in a future version.\n",
      "Instructions for updating:\n",
      "Use keras.layers.dense instead.\n",
      "WARNING:tensorflow:From /home/martilad/FIT/MI-MVI2019/__venv__/lib/python3.7/site-packages/tensorflow/python/ops/init_ops.py:1251: calling VarianceScaling.__init__ (from tensorflow.python.ops.init_ops) with dtype is deprecated and will be removed in a future version.\n",
      "Instructions for updating:\n",
      "Call initializer instance with the dtype argument instead of passing it to the constructor\n",
      "WARNING:tensorflow:Entity <bound method Dense.call of <tensorflow.python.layers.core.Dense object at 0x7f5d0ca84748>> could not be transformed and will be executed as-is. Please report this to the AutgoGraph team. When filing the bug, set the verbosity to 10 (on Linux, `export AUTOGRAPH_VERBOSITY=10`) and attach the full output. Cause: converting <bound method Dense.call of <tensorflow.python.layers.core.Dense object at 0x7f5d0ca84748>>: AssertionError: Bad argument number for Name: 3, expecting 4\n",
      "WARNING: Entity <bound method Dense.call of <tensorflow.python.layers.core.Dense object at 0x7f5d0ca84748>> could not be transformed and will be executed as-is. Please report this to the AutgoGraph team. When filing the bug, set the verbosity to 10 (on Linux, `export AUTOGRAPH_VERBOSITY=10`) and attach the full output. Cause: converting <bound method Dense.call of <tensorflow.python.layers.core.Dense object at 0x7f5d0ca84748>>: AssertionError: Bad argument number for Name: 3, expecting 4\n",
      "WARNING:tensorflow:Entity <bound method Dense.call of <tensorflow.python.layers.core.Dense object at 0x7f5d58904240>> could not be transformed and will be executed as-is. Please report this to the AutgoGraph team. When filing the bug, set the verbosity to 10 (on Linux, `export AUTOGRAPH_VERBOSITY=10`) and attach the full output. Cause: converting <bound method Dense.call of <tensorflow.python.layers.core.Dense object at 0x7f5d58904240>>: AssertionError: Bad argument number for Name: 3, expecting 4\n",
      "WARNING: Entity <bound method Dense.call of <tensorflow.python.layers.core.Dense object at 0x7f5d58904240>> could not be transformed and will be executed as-is. Please report this to the AutgoGraph team. When filing the bug, set the verbosity to 10 (on Linux, `export AUTOGRAPH_VERBOSITY=10`) and attach the full output. Cause: converting <bound method Dense.call of <tensorflow.python.layers.core.Dense object at 0x7f5d58904240>>: AssertionError: Bad argument number for Name: 3, expecting 4\n",
      "WARNING:tensorflow:Entity <bound method Dense.call of <tensorflow.python.layers.core.Dense object at 0x7f5d0ca84748>> could not be transformed and will be executed as-is. Please report this to the AutgoGraph team. When filing the bug, set the verbosity to 10 (on Linux, `export AUTOGRAPH_VERBOSITY=10`) and attach the full output. Cause: converting <bound method Dense.call of <tensorflow.python.layers.core.Dense object at 0x7f5d0ca84748>>: AssertionError: Bad argument number for Name: 3, expecting 4\n",
      "WARNING: Entity <bound method Dense.call of <tensorflow.python.layers.core.Dense object at 0x7f5d0ca84748>> could not be transformed and will be executed as-is. Please report this to the AutgoGraph team. When filing the bug, set the verbosity to 10 (on Linux, `export AUTOGRAPH_VERBOSITY=10`) and attach the full output. Cause: converting <bound method Dense.call of <tensorflow.python.layers.core.Dense object at 0x7f5d0ca84748>>: AssertionError: Bad argument number for Name: 3, expecting 4\n",
      "WARNING:tensorflow:From <ipython-input-11-7bed239f1362>:15: softmax_cross_entropy_with_logits (from tensorflow.python.ops.nn_ops) is deprecated and will be removed in a future version.\n",
      "Instructions for updating:\n",
      "\n",
      "Future major versions of TensorFlow will allow gradients to flow\n",
      "into the labels input on backprop by default.\n",
      "\n",
      "See `tf.nn.softmax_cross_entropy_with_logits_v2`.\n",
      "\n"
     ]
    }
   ],
   "source": [
    "import tensorflow as tf\n",
    "tf.reset_default_graph()   # TF remembers everything you defined, this will keep the computation graph clean\n",
    "\n",
    "#learning_rate = 0.1              # Batch Gradient Descent\n",
    "#learning_rate = 0.01             # Stochastic Gradient Descent\n",
    "learning_rate = 0.05            # Mini-batch Gradient Descent\n",
    "\n",
    "input_data = tf.placeholder(tf.float32, (None, train_dataset.shape[1]))\n",
    "input_labels = tf.placeholder(tf.int32, (None, train_labels.shape[1]))\n",
    "\n",
    "layer1 = tf.layers.dense(input_data, 200, activation=tf.nn.relu)\n",
    "layer2 = tf.layers.dense(layer1, 100, activation=tf.nn.relu)\n",
    "logits = tf.layers.dense(layer2, 4)\n",
    "\n",
    "batch_loss = tf.nn.softmax_cross_entropy_with_logits(labels=input_labels, logits=logits)\n",
    "loss = tf.reduce_mean(batch_loss)\n",
    "train_op = tf.train.GradientDescentOptimizer(learning_rate).minimize(loss)\n",
    "\n",
    "accuracy = tf.reduce_mean(tf.cast(tf.equal(tf.argmax(logits, 1), tf.argmax(input_labels, 1)), tf.float32))"
   ]
  },
  {
   "cell_type": "markdown",
   "metadata": {},
   "source": [
    "### Task 1B ###\n",
    "\n",
    "* train the neural network you defined above using **Batch Gradient Descent**\n",
    "* during each learning step, the network makes predictions for all 18000 training images and learns from its mistakes\n",
    "* evaluate the network on the notMNIST evaluation set\n",
    "\n",
    "\n",
    "* recommended learning rate: 0.1\n",
    "* recommended number of training steps: 60\n",
    "\n",
    "See the reference notebook for a solution."
   ]
  },
  {
   "cell_type": "code",
   "execution_count": 13,
   "metadata": {},
   "outputs": [
    {
     "name": "stdout",
     "output_type": "stream",
     "text": [
      "step: 0 , loss: 1.769275 , training accuracy: 0.26966667\n",
      "step: 1 , loss: 1.0259211 , training accuracy: 0.6152222\n",
      "step: 2 , loss: 0.801195 , training accuracy: 0.73194444\n",
      "step: 3 , loss: 0.69242734 , training accuracy: 0.7726111\n",
      "step: 4 , loss: 0.6252691 , training accuracy: 0.79366666\n",
      "step: 5 , loss: 0.578549 , training accuracy: 0.8062222\n",
      "step: 6 , loss: 0.543719 , training accuracy: 0.81644446\n",
      "step: 7 , loss: 0.5165307 , training accuracy: 0.82427776\n",
      "step: 8 , loss: 0.49466982 , training accuracy: 0.8311667\n",
      "step: 9 , loss: 0.47667897 , training accuracy: 0.8384445\n",
      "step: 10 , loss: 0.4616007 , training accuracy: 0.8427778\n",
      "step: 11 , loss: 0.44877476 , training accuracy: 0.8472222\n",
      "step: 12 , loss: 0.4377137 , training accuracy: 0.8507222\n",
      "step: 13 , loss: 0.42806226 , training accuracy: 0.8537222\n",
      "step: 14 , loss: 0.41955847 , training accuracy: 0.8561111\n",
      "step: 15 , loss: 0.41199714 , training accuracy: 0.8588333\n",
      "step: 16 , loss: 0.40523148 , training accuracy: 0.8603889\n",
      "step: 17 , loss: 0.3991319 , training accuracy: 0.86183333\n",
      "step: 18 , loss: 0.3935966 , training accuracy: 0.86344445\n",
      "step: 19 , loss: 0.38854265 , training accuracy: 0.8652222\n",
      "step: 20 , loss: 0.38390604 , training accuracy: 0.867\n",
      "step: 21 , loss: 0.37963197 , training accuracy: 0.86822224\n",
      "step: 22 , loss: 0.3756797 , training accuracy: 0.8696667\n",
      "step: 23 , loss: 0.37200636 , training accuracy: 0.8703333\n",
      "step: 24 , loss: 0.3685801 , training accuracy: 0.8716111\n",
      "step: 25 , loss: 0.36537573 , training accuracy: 0.87222224\n",
      "step: 26 , loss: 0.36236548 , training accuracy: 0.8732778\n",
      "step: 27 , loss: 0.35952318 , training accuracy: 0.87383336\n",
      "step: 28 , loss: 0.35683656 , training accuracy: 0.8745\n",
      "step: 29 , loss: 0.35429582 , training accuracy: 0.875\n",
      "step: 30 , loss: 0.3518873 , training accuracy: 0.87583333\n",
      "step: 31 , loss: 0.3495988 , training accuracy: 0.8762222\n",
      "step: 32 , loss: 0.3474171 , training accuracy: 0.87677777\n",
      "step: 33 , loss: 0.34533292 , training accuracy: 0.87733334\n",
      "step: 34 , loss: 0.34334034 , training accuracy: 0.8778333\n",
      "step: 35 , loss: 0.3414308 , training accuracy: 0.87855554\n",
      "step: 36 , loss: 0.33959863 , training accuracy: 0.87905556\n",
      "step: 37 , loss: 0.33783594 , training accuracy: 0.87983334\n",
      "step: 38 , loss: 0.3361377 , training accuracy: 0.88016665\n",
      "step: 39 , loss: 0.3345021 , training accuracy: 0.8805\n",
      "step: 40 , loss: 0.33292395 , training accuracy: 0.881\n",
      "step: 41 , loss: 0.33139855 , training accuracy: 0.8812778\n",
      "step: 42 , loss: 0.32992265 , training accuracy: 0.8818333\n",
      "step: 43 , loss: 0.3284956 , training accuracy: 0.88244444\n",
      "step: 44 , loss: 0.32711312 , training accuracy: 0.8827222\n",
      "step: 45 , loss: 0.32577148 , training accuracy: 0.8831111\n",
      "step: 46 , loss: 0.32446843 , training accuracy: 0.88372225\n",
      "step: 47 , loss: 0.32320428 , training accuracy: 0.884\n",
      "step: 48 , loss: 0.32197663 , training accuracy: 0.88427776\n",
      "step: 49 , loss: 0.32078066 , training accuracy: 0.885\n",
      "step: 50 , loss: 0.3196137 , training accuracy: 0.88505554\n",
      "step: 51 , loss: 0.31847548 , training accuracy: 0.8858889\n",
      "step: 52 , loss: 0.31736413 , training accuracy: 0.8863889\n",
      "step: 53 , loss: 0.31627855 , training accuracy: 0.8868333\n",
      "step: 54 , loss: 0.315218 , training accuracy: 0.8872778\n",
      "step: 55 , loss: 0.31418133 , training accuracy: 0.88766664\n",
      "step: 56 , loss: 0.313167 , training accuracy: 0.88794446\n",
      "step: 57 , loss: 0.31217316 , training accuracy: 0.8882222\n",
      "step: 58 , loss: 0.31119928 , training accuracy: 0.8885\n",
      "step: 59 , loss: 0.31024554 , training accuracy: 0.8887778\n",
      "Training finished after 60 steps.\n",
      "Validation accuracy 0.875 .\n"
     ]
    }
   ],
   "source": [
    "num_steps = 60\n",
    "\n",
    "with tf.Session() as session:\n",
    "  session.run(tf.global_variables_initializer())\n",
    "\n",
    "  for step in range(num_steps):\n",
    "    batch_loss, batch_accuracy, _ = session.run([loss, accuracy, train_op], feed_dict={\n",
    "      input_data: train_dataset,\n",
    "      input_labels: train_labels\n",
    "    })\n",
    "    print('step:', step, ', loss:', batch_loss, ', training accuracy:', batch_accuracy)\n",
    "    \n",
    "  print('Training finished after', num_steps, 'steps.')\n",
    "  validation_accuracy = session.run(accuracy, feed_dict={\n",
    "    input_data: valid_dataset,\n",
    "    input_labels: valid_labels\n",
    "  })\n",
    "  print('Validation accuracy', validation_accuracy, '.')"
   ]
  },
  {
   "cell_type": "markdown",
   "metadata": {},
   "source": [
    "### Task 1C ###\n",
    "\n",
    "* train the neural network you defined above using **Stochastic Gradient Descent**\n",
    "* during each learning step, the network makes predictions for a single image and learns from its mistakes\n",
    "* evaluate the network on the notMNIST evaluation set\n",
    "\n",
    "\n",
    "* recommended learning rate: 0.01\n",
    "* recommended number of training steps: 5000\n",
    "\n",
    "See the reference notebook for a solution."
   ]
  },
  {
   "cell_type": "code",
   "execution_count": 14,
   "metadata": {},
   "outputs": [
    {
     "name": "stdout",
     "output_type": "stream",
     "text": [
      "step: 0 , loss: 1.1658584 , training accuracy: 1.0\n",
      "step: 1000 , loss: nan , training accuracy: 0.0\n",
      "step: 2000 , loss: nan , training accuracy: 0.0\n",
      "step: 3000 , loss: nan , training accuracy: 0.0\n",
      "step: 4000 , loss: nan , training accuracy: 1.0\n",
      "Training finished after 5000 steps.\n",
      "Validation accuracy 0.25 .\n"
     ]
    }
   ],
   "source": [
    "num_steps = 5000\n",
    "log_frequency = 1000\n",
    "\n",
    "with tf.Session() as session:\n",
    "  session.run(tf.global_variables_initializer())\n",
    "\n",
    "  for step in range(num_steps):\n",
    "    index = step % train_dataset.shape[0] \n",
    "    \n",
    "    batch_loss, batch_accuracy, _ = session.run([loss, accuracy, train_op], feed_dict={\n",
    "      input_data: train_dataset[index : index + 1],\n",
    "      input_labels: train_labels[index : index + 1]\n",
    "    })\n",
    "    \n",
    "    if step % log_frequency == 0:\n",
    "      print('step:', step, ', loss:', batch_loss, ', training accuracy:', batch_accuracy)\n",
    "    \n",
    "  print('Training finished after', num_steps, 'steps.')\n",
    "  validation_accuracy = session.run(accuracy, feed_dict={\n",
    "    input_data: valid_dataset,\n",
    "    input_labels: valid_labels\n",
    "  })\n",
    "  print('Validation accuracy', validation_accuracy, '.')"
   ]
  },
  {
   "cell_type": "markdown",
   "metadata": {},
   "source": [
    "### Task 1D ###\n",
    "\n",
    "* train the neural network you defined above using **Mini-batch Gradient Descent**\n",
    "* during each learning step, the network makes predictions for a small batch of images and learns from its mistakes\n",
    "* evaluate the network on the notMNIST evaluation set\n",
    "\n",
    "\n",
    "* recommended mini-batch size: 64\n",
    "* recommended learning rate: 0.05\n",
    "* recommended number of training steps: 2000\n",
    "\n",
    "See the reference notebook for a the solution."
   ]
  },
  {
   "cell_type": "code",
   "execution_count": 15,
   "metadata": {},
   "outputs": [
    {
     "name": "stdout",
     "output_type": "stream",
     "text": [
      "step: 0 , loss: 1.6355736 , training accuracy: 0.234375\n",
      "step: 500 , loss: 0.28130895 , training accuracy: 0.890625\n",
      "step: 1000 , loss: 0.10560624 , training accuracy: 0.984375\n",
      "step: 1500 , loss: 0.064939275 , training accuracy: 0.984375\n",
      "Training finished after 2000 steps.\n",
      "Validation accuracy 0.899 .\n"
     ]
    }
   ],
   "source": [
    "num_steps = 2000\n",
    "mini_batch_size = 64\n",
    "log_frequency = 500\n",
    "\n",
    "steps_per_epoch = train_dataset.shape[0] // mini_batch_size\n",
    "\n",
    "with tf.Session() as session:\n",
    "  session.run(tf.global_variables_initializer())\n",
    "\n",
    "  for step in range(num_steps):\n",
    "    epoch_step = step % steps_per_epoch\n",
    "        \n",
    "    start = epoch_step * mini_batch_size\n",
    "    end = (epoch_step +  1) * mini_batch_size\n",
    "    \n",
    "    batch_loss, batch_accuracy, _ = session.run([loss, accuracy, train_op], feed_dict={\n",
    "      input_data: train_dataset.take(range(start, end), axis=0, mode=\"wrap\"),\n",
    "      input_labels: train_labels.take(range(start, end), axis=0, mode=\"wrap\")\n",
    "    })\n",
    "    \n",
    "    if step % log_frequency == 0:\n",
    "      print('step:', step, ', loss:', batch_loss, ', training accuracy:', batch_accuracy)\n",
    "    \n",
    "  print('Training finished after', num_steps, 'steps.')\n",
    "  validation_accuracy = session.run(accuracy, feed_dict={\n",
    "    input_data: valid_dataset,\n",
    "    input_labels: valid_labels\n",
    "  })\n",
    "  print('Validation accuracy', validation_accuracy, '.')"
   ]
  },
  {
   "cell_type": "markdown",
   "metadata": {},
   "source": [
    "## Part 3: Saving models and visualizing learning in Tensorflow ##"
   ]
  },
  {
   "cell_type": "markdown",
   "metadata": {},
   "source": [
    "It is not very convenient to train your model each time you want to use it. On top of that, complex Computer Vision models take weeks to train.\n",
    "\n",
    "In this section, you will learn how to save and load a Tensorflow model. In addition, you will visualize how the loss and accuracy changes during the training of your neural network using Tensorboard."
   ]
  },
  {
   "cell_type": "markdown",
   "metadata": {},
   "source": [
    "### Task 2A ###\n",
    "\n",
    "Copy the definition of your neural network and add the following lines to the end of the code snippet. You might need to change the names of the variables or delete the second line if you haven't defined an operation that measures the accuracy of your model.\n",
    "\n",
    "```\n",
    "tf.summary.scalar('loss', loss)\n",
    "tf.summary.scalar('accuracy', accuracy)\n",
    "summaries = tf.summary.merge_all()\n",
    "```\n",
    "\n",
    "The first two lines create summary operations for your model's loss and accuracy which will be recorded during each training step. The third line groups the two summaries together so that you have a single operation that is easy to work with.\n",
    "\n",
    "See the reference notebook for a the solution."
   ]
  },
  {
   "cell_type": "code",
   "execution_count": 35,
   "metadata": {},
   "outputs": [
    {
     "name": "stdout",
     "output_type": "stream",
     "text": [
      "WARNING:tensorflow:Entity <bound method Dropout.call of <tensorflow.python.layers.core.Dropout object at 0x7f5d0f54c240>> could not be transformed and will be executed as-is. Please report this to the AutgoGraph team. When filing the bug, set the verbosity to 10 (on Linux, `export AUTOGRAPH_VERBOSITY=10`) and attach the full output. Cause: converting <bound method Dropout.call of <tensorflow.python.layers.core.Dropout object at 0x7f5d0f54c240>>: AssertionError: Bad argument number for Name: 3, expecting 4\n",
      "WARNING: Entity <bound method Dropout.call of <tensorflow.python.layers.core.Dropout object at 0x7f5d0f54c240>> could not be transformed and will be executed as-is. Please report this to the AutgoGraph team. When filing the bug, set the verbosity to 10 (on Linux, `export AUTOGRAPH_VERBOSITY=10`) and attach the full output. Cause: converting <bound method Dropout.call of <tensorflow.python.layers.core.Dropout object at 0x7f5d0f54c240>>: AssertionError: Bad argument number for Name: 3, expecting 4\n",
      "WARNING:tensorflow:Entity <bound method Dense.call of <tensorflow.python.layers.core.Dense object at 0x7f5d0f54c0f0>> could not be transformed and will be executed as-is. Please report this to the AutgoGraph team. When filing the bug, set the verbosity to 10 (on Linux, `export AUTOGRAPH_VERBOSITY=10`) and attach the full output. Cause: converting <bound method Dense.call of <tensorflow.python.layers.core.Dense object at 0x7f5d0f54c0f0>>: AssertionError: Bad argument number for Name: 3, expecting 4\n",
      "WARNING: Entity <bound method Dense.call of <tensorflow.python.layers.core.Dense object at 0x7f5d0f54c0f0>> could not be transformed and will be executed as-is. Please report this to the AutgoGraph team. When filing the bug, set the verbosity to 10 (on Linux, `export AUTOGRAPH_VERBOSITY=10`) and attach the full output. Cause: converting <bound method Dense.call of <tensorflow.python.layers.core.Dense object at 0x7f5d0f54c0f0>>: AssertionError: Bad argument number for Name: 3, expecting 4\n",
      "WARNING:tensorflow:Entity <bound method Dense.call of <tensorflow.python.layers.core.Dense object at 0x7f5d0f54c240>> could not be transformed and will be executed as-is. Please report this to the AutgoGraph team. When filing the bug, set the verbosity to 10 (on Linux, `export AUTOGRAPH_VERBOSITY=10`) and attach the full output. Cause: converting <bound method Dense.call of <tensorflow.python.layers.core.Dense object at 0x7f5d0f54c240>>: AssertionError: Bad argument number for Name: 3, expecting 4\n",
      "WARNING: Entity <bound method Dense.call of <tensorflow.python.layers.core.Dense object at 0x7f5d0f54c240>> could not be transformed and will be executed as-is. Please report this to the AutgoGraph team. When filing the bug, set the verbosity to 10 (on Linux, `export AUTOGRAPH_VERBOSITY=10`) and attach the full output. Cause: converting <bound method Dense.call of <tensorflow.python.layers.core.Dense object at 0x7f5d0f54c240>>: AssertionError: Bad argument number for Name: 3, expecting 4\n",
      "WARNING:tensorflow:Entity <bound method Dense.call of <tensorflow.python.layers.core.Dense object at 0x7f5d0f54c0f0>> could not be transformed and will be executed as-is. Please report this to the AutgoGraph team. When filing the bug, set the verbosity to 10 (on Linux, `export AUTOGRAPH_VERBOSITY=10`) and attach the full output. Cause: converting <bound method Dense.call of <tensorflow.python.layers.core.Dense object at 0x7f5d0f54c0f0>>: AssertionError: Bad argument number for Name: 3, expecting 4\n",
      "WARNING: Entity <bound method Dense.call of <tensorflow.python.layers.core.Dense object at 0x7f5d0f54c0f0>> could not be transformed and will be executed as-is. Please report this to the AutgoGraph team. When filing the bug, set the verbosity to 10 (on Linux, `export AUTOGRAPH_VERBOSITY=10`) and attach the full output. Cause: converting <bound method Dense.call of <tensorflow.python.layers.core.Dense object at 0x7f5d0f54c0f0>>: AssertionError: Bad argument number for Name: 3, expecting 4\n"
     ]
    }
   ],
   "source": [
    "import tensorflow as tf\n",
    "tf.reset_default_graph()   # TF remembers everything you defined, this will keep the computation graph clean\n",
    "\n",
    "learning_rate = 0.05\n",
    "\n",
    "input_data = tf.placeholder(tf.float32, (None, train_dataset.shape[1]))\n",
    "input_labels = tf.placeholder(tf.int32, (None, train_labels.shape[1]))\n",
    "isTrain = tf.placeholder(tf.bool, shape=())\n",
    "\n",
    "\n",
    "embedded_inputs_t = tf.layers.dropout(input_data, rate=0.4, training=isTrain)\n",
    "layer1 = tf.layers.dense(embedded_inputs_t, 200, activation=tf.nn.relu)\n",
    "layer2 = tf.layers.dense(layer1, 100, activation=tf.nn.relu)\n",
    "logits = tf.layers.dense(layer2, 4)\n",
    "\n",
    "batch_loss = tf.nn.softmax_cross_entropy_with_logits(labels=input_labels, logits=logits)\n",
    "loss = tf.reduce_mean(batch_loss)\n",
    "train_op = tf.train.GradientDescentOptimizer(learning_rate).minimize(loss)\n",
    "\n",
    "accuracy = tf.reduce_mean(tf.cast(tf.equal(tf.argmax(logits, 1), tf.argmax(input_labels, 1)), tf.float32))\n",
    "\n",
    "tf.summary.scalar('loss', loss)\n",
    "tf.summary.scalar('accuracy', accuracy)\n",
    "summaries = tf.summary.merge_all()"
   ]
  },
  {
   "cell_type": "markdown",
   "metadata": {},
   "source": [
    "### Task 2B ###\n",
    "\n",
    "Add these lines to the beginning of your training script.\n",
    "\n",
    "```\n",
    "saver = tf.train.Saver()\n",
    "summary_writer = tf.summary.FileWriter('data', graph=tf.get_default_graph())\n",
    "```\n",
    "\n",
    "You can save a summary using `summary_writer.add_summary(summary, global_step=step)` and the model using `saver.save(session, os.path.join('data/notMNIST-model-1'), global_step=step)`.\n",
    "\n",
    "See the reference notebook for a the solution."
   ]
  },
  {
   "cell_type": "code",
   "execution_count": 38,
   "metadata": {},
   "outputs": [
    {
     "name": "stdout",
     "output_type": "stream",
     "text": [
      "step: 0 , loss: 1.8893204 , training accuracy: 0.328125\n",
      "step: 500 , loss: 0.2831304 , training accuracy: 0.9375\n",
      "step: 1000 , loss: 0.16768417 , training accuracy: 0.953125\n",
      "step: 1500 , loss: 0.12654641 , training accuracy: 0.96875\n",
      "Training finished after 2000 steps.\n",
      "Validation accuracy 0.901 .\n"
     ]
    }
   ],
   "source": [
    "num_steps = 2000\n",
    "mini_batch_size = 64\n",
    "log_frequency = 500\n",
    "\n",
    "saver = tf.train.Saver()\n",
    "summary_writer = tf.summary.FileWriter('data', graph=tf.get_default_graph())\n",
    "\n",
    "with tf.Session() as session:\n",
    "  session.run(tf.global_variables_initializer())\n",
    "\n",
    "  for step in range(num_steps):\n",
    "    epoch_step = step % steps_per_epoch\n",
    "        \n",
    "    start = epoch_step * mini_batch_size\n",
    "    end = (epoch_step +  1) * mini_batch_size\n",
    "    \n",
    "    batch_loss, batch_accuracy, summary, _ = session.run([loss, accuracy, summaries, train_op], feed_dict={\n",
    "      input_data: train_dataset.take(range(start, end), axis=0, mode=\"wrap\"),\n",
    "      input_labels: train_labels.take(range(start, end), axis=0, mode=\"wrap\"), \n",
    "      isTrain: True\n",
    "    })\n",
    "    summary_writer.add_summary(summary, global_step=step)\n",
    "    \n",
    "    if step % log_frequency == 0:\n",
    "      print('step:', step, ', loss:', batch_loss, ', training accuracy:', batch_accuracy)\n",
    "    \n",
    "  print('Training finished after', num_steps, 'steps.')\n",
    "  validation_accuracy = session.run(accuracy, feed_dict={\n",
    "    input_data: valid_dataset,\n",
    "    input_labels: valid_labels,\n",
    "    isTrain: False\n",
    "  })\n",
    "  print('Validation accuracy', validation_accuracy, '.')\n",
    "\n",
    "  saver.save(session, os.path.join('data/neco'), global_step=step)"
   ]
  },
  {
   "cell_type": "markdown",
   "metadata": {},
   "source": [
    "You can **load** and evaluate your model using the following script. When saving a model, Tensorflow generates three different files (data, meta and index). To load a model, simply specify its path without the extensions."
   ]
  },
  {
   "cell_type": "code",
   "execution_count": 40,
   "metadata": {},
   "outputs": [
    {
     "name": "stdout",
     "output_type": "stream",
     "text": [
      "INFO:tensorflow:Restoring parameters from data/neco-1999\n",
      "Validation accuracy: 0.901\n"
     ]
    }
   ],
   "source": [
    "path_to_your_model = 'data/neco-1999'\n",
    "\n",
    "if path_to_your_model is None:\n",
    "  print(\"Please specify the path to your saved model.\")\n",
    "else:\n",
    "  saver = tf.train.Saver()\n",
    "\n",
    "  with tf.Session() as session:\n",
    "    session.run(tf.global_variables_initializer())\n",
    "    saver.restore(session, path_to_your_model)\n",
    "\n",
    "    validation_accuracy = session.run(accuracy, feed_dict={\n",
    "      input_data: valid_dataset,\n",
    "      input_labels: valid_labels, \n",
    "      isTrain: False\n",
    "    })\n",
    "    print('Validation accuracy:', validation_accuracy)"
   ]
  },
  {
   "cell_type": "markdown",
   "metadata": {},
   "source": [
    "To visualize the training, call the following command.\n",
    "\n",
    "```\n",
    "tensorboard --logdir data\n",
    "```\n",
    "\n",
    "You must activate the virtual environment that contains your instalation of Tensorflow before you can call this command."
   ]
  },
  {
   "cell_type": "markdown",
   "metadata": {},
   "source": [
    "## Part 4: Regularization ##"
   ]
  },
  {
   "cell_type": "markdown",
   "metadata": {},
   "source": [
    "As you might have noticed, some of the models you have trained earlier report training accuracy that is much higher than the validation or testing accuracy. This is due to the model **overfitting** on the training data. Overfitting can be mitigated using **regularization** techniques.\n",
    "\n",
    "**Dropout** is a popular technique that prevents overfitting by dropping some of the activations of a particular layer. Take a look at [dropout in Tensorflow](https://www.tensorflow.org/api_docs/python/tf/layers/dropout). You can add it into your computation graph as a layer similarly to the Dense layer.\n",
    "\n",
    "However, there is one more thing you need to do before you can use it. Dropout should drop activations only during training because we don't want to loose any information at random when we make predictions with the model. You will need to define a boolean Tensor that will tell the dropout layer if it's in the training or testing mode."
   ]
  },
  {
   "cell_type": "markdown",
   "metadata": {},
   "source": [
    "### Task 3 (bonus points) ###\n",
    "\n",
    "Add a dropout layer **before** the last Dense layer and make sure that activations are dropped only during training. Try changing the drop probability in order to obtain the best validation accuracy. Use the neural network you have defined above and train it with mini-batch gradient descent. Note that a model with a stronger regularization might need more training steps to converge properly.\n",
    "\n",
    "The solution will be added to the reference notebook after the end of this tutorial."
   ]
  },
  {
   "cell_type": "markdown",
   "metadata": {},
   "source": [
    "## Additional Resources   ##\n",
    "\n",
    "** Saving and restoring models in Tensorfow **\n",
    "* [tutorial](https://www.tensorflow.org/programmers_guide/saved_model)\n",
    "\n",
    "** Visualizing learning using Tensorboard **\n",
    "* [tutorial](https://www.tensorflow.org/get_started/summaries_and_tensorboard)\n",
    "\n",
    "** Dropout **\n",
    "* [documentation](https://www.tensorflow.org/api_docs/python/tf/layers/dropout)\n",
    "* [paper](https://www.cs.toronto.edu/~hinton/absps/JMLRdropout.pdf)"
   ]
  },
  {
   "cell_type": "code",
   "execution_count": null,
   "metadata": {},
   "outputs": [],
   "source": []
  }
 ],
 "metadata": {
  "kernelspec": {
   "display_name": "Python 3",
   "language": "python",
   "name": "python3"
  },
  "language_info": {
   "codemirror_mode": {
    "name": "ipython",
    "version": 3
   },
   "file_extension": ".py",
   "mimetype": "text/x-python",
   "name": "python",
   "nbconvert_exporter": "python",
   "pygments_lexer": "ipython3",
   "version": "3.7.3"
  }
 },
 "nbformat": 4,
 "nbformat_minor": 2
}
